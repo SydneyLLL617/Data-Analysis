{
 "cells": [
  {
   "cell_type": "code",
   "execution_count": 1,
   "id": "a0e9ff61",
   "metadata": {},
   "outputs": [],
   "source": [
    "#importing necessary packages, pandas and numpy for data processing, matplotlib and seaborn for plotting graphs\n",
    "import pandas as pd\n",
    "import numpy as np\n",
    "import matplotlib.pyplot as plt\n",
    "import seaborn as sns\n"
   ]
  },
  {
   "cell_type": "code",
   "execution_count": 2,
   "id": "a36eb776",
   "metadata": {},
   "outputs": [
    {
     "data": {
      "text/html": [
       "<div>\n",
       "<style scoped>\n",
       "    .dataframe tbody tr th:only-of-type {\n",
       "        vertical-align: middle;\n",
       "    }\n",
       "\n",
       "    .dataframe tbody tr th {\n",
       "        vertical-align: top;\n",
       "    }\n",
       "\n",
       "    .dataframe thead th {\n",
       "        text-align: right;\n",
       "    }\n",
       "</style>\n",
       "<table border=\"1\" class=\"dataframe\">\n",
       "  <thead>\n",
       "    <tr style=\"text-align: right;\">\n",
       "      <th></th>\n",
       "      <th>dattime</th>\n",
       "      <th>client</th>\n",
       "      <th>country</th>\n",
       "      <th>ad_type</th>\n",
       "      <th>total_impressions</th>\n",
       "      <th>total_value</th>\n",
       "    </tr>\n",
       "  </thead>\n",
       "  <tbody>\n",
       "    <tr>\n",
       "      <th>0</th>\n",
       "      <td>2021-06-06*06:00:00</td>\n",
       "      <td>1</td>\n",
       "      <td>EST</td>\n",
       "      <td>2</td>\n",
       "      <td>137</td>\n",
       "      <td>0.137000</td>\n",
       "    </tr>\n",
       "    <tr>\n",
       "      <th>1</th>\n",
       "      <td>2021-06-12*22:00:00</td>\n",
       "      <td>2</td>\n",
       "      <td>DZA</td>\n",
       "      <td>2</td>\n",
       "      <td>4424</td>\n",
       "      <td>91.720657</td>\n",
       "    </tr>\n",
       "    <tr>\n",
       "      <th>2</th>\n",
       "      <td>2021-06-05*20:00:00</td>\n",
       "      <td>1</td>\n",
       "      <td>NCL</td>\n",
       "      <td>2</td>\n",
       "      <td>271</td>\n",
       "      <td>0.271000</td>\n",
       "    </tr>\n",
       "    <tr>\n",
       "      <th>3</th>\n",
       "      <td>2021-06-23*17:00:00</td>\n",
       "      <td>1</td>\n",
       "      <td>EST</td>\n",
       "      <td>17</td>\n",
       "      <td>1</td>\n",
       "      <td>0.001000</td>\n",
       "    </tr>\n",
       "    <tr>\n",
       "      <th>4</th>\n",
       "      <td>2021-06-02*10:00:00</td>\n",
       "      <td>3</td>\n",
       "      <td>NCL</td>\n",
       "      <td>2</td>\n",
       "      <td>11701</td>\n",
       "      <td>4.871900</td>\n",
       "    </tr>\n",
       "    <tr>\n",
       "      <th>5</th>\n",
       "      <td>2021-06-11*16:00:00</td>\n",
       "      <td>4</td>\n",
       "      <td>DZA</td>\n",
       "      <td>2</td>\n",
       "      <td>1496</td>\n",
       "      <td>0.308200</td>\n",
       "    </tr>\n",
       "    <tr>\n",
       "      <th>6</th>\n",
       "      <td>2021-06-19*08:00:00</td>\n",
       "      <td>5</td>\n",
       "      <td>DZA</td>\n",
       "      <td>10</td>\n",
       "      <td>16</td>\n",
       "      <td>0.160000</td>\n",
       "    </tr>\n",
       "    <tr>\n",
       "      <th>7</th>\n",
       "      <td>2021-06-20*03:00:00</td>\n",
       "      <td>6</td>\n",
       "      <td>DZA</td>\n",
       "      <td>10</td>\n",
       "      <td>1</td>\n",
       "      <td>0.024500</td>\n",
       "    </tr>\n",
       "    <tr>\n",
       "      <th>8</th>\n",
       "      <td>2021-06-03*21:00:00</td>\n",
       "      <td>7</td>\n",
       "      <td>NCL</td>\n",
       "      <td>10</td>\n",
       "      <td>8</td>\n",
       "      <td>0.184000</td>\n",
       "    </tr>\n",
       "    <tr>\n",
       "      <th>9</th>\n",
       "      <td>2021-06-21*15:00:00</td>\n",
       "      <td>8</td>\n",
       "      <td>DZA</td>\n",
       "      <td>17</td>\n",
       "      <td>1</td>\n",
       "      <td>0.002000</td>\n",
       "    </tr>\n",
       "    <tr>\n",
       "      <th>10</th>\n",
       "      <td>2021-06-27*01:00:00</td>\n",
       "      <td>9</td>\n",
       "      <td>ISL</td>\n",
       "      <td>10</td>\n",
       "      <td>75</td>\n",
       "      <td>0.557920</td>\n",
       "    </tr>\n",
       "    <tr>\n",
       "      <th>11</th>\n",
       "      <td>2021-06-10*16:00:00</td>\n",
       "      <td>10</td>\n",
       "      <td>EST</td>\n",
       "      <td>10</td>\n",
       "      <td>78</td>\n",
       "      <td>0.042000</td>\n",
       "    </tr>\n",
       "    <tr>\n",
       "      <th>12</th>\n",
       "      <td>2021-06-15*19:00:00</td>\n",
       "      <td>11</td>\n",
       "      <td>ISL</td>\n",
       "      <td>2</td>\n",
       "      <td>932</td>\n",
       "      <td>4.666100</td>\n",
       "    </tr>\n",
       "    <tr>\n",
       "      <th>13</th>\n",
       "      <td>2021-06-29*15:00:00</td>\n",
       "      <td>12</td>\n",
       "      <td>NCL</td>\n",
       "      <td>10</td>\n",
       "      <td>59</td>\n",
       "      <td>0.059000</td>\n",
       "    </tr>\n",
       "    <tr>\n",
       "      <th>14</th>\n",
       "      <td>2021-06-05*12:00:00</td>\n",
       "      <td>13</td>\n",
       "      <td>EST</td>\n",
       "      <td>10</td>\n",
       "      <td>197</td>\n",
       "      <td>0.000000</td>\n",
       "    </tr>\n",
       "    <tr>\n",
       "      <th>15</th>\n",
       "      <td>2021-06-13*21:00:00</td>\n",
       "      <td>14</td>\n",
       "      <td>ISL</td>\n",
       "      <td>2</td>\n",
       "      <td>58</td>\n",
       "      <td>0.950000</td>\n",
       "    </tr>\n",
       "    <tr>\n",
       "      <th>16</th>\n",
       "      <td>2021-06-10*02:00:00</td>\n",
       "      <td>15</td>\n",
       "      <td>EST</td>\n",
       "      <td>2</td>\n",
       "      <td>1070</td>\n",
       "      <td>0.167300</td>\n",
       "    </tr>\n",
       "    <tr>\n",
       "      <th>17</th>\n",
       "      <td>2021-06-18*15:00:00</td>\n",
       "      <td>1</td>\n",
       "      <td>DZA</td>\n",
       "      <td>2</td>\n",
       "      <td>1</td>\n",
       "      <td>0.001000</td>\n",
       "    </tr>\n",
       "    <tr>\n",
       "      <th>18</th>\n",
       "      <td>2021-06-04*04:00:00</td>\n",
       "      <td>8</td>\n",
       "      <td>ISL</td>\n",
       "      <td>2</td>\n",
       "      <td>119</td>\n",
       "      <td>0.021400</td>\n",
       "    </tr>\n",
       "    <tr>\n",
       "      <th>19</th>\n",
       "      <td>2021-06-17*15:00:00</td>\n",
       "      <td>16</td>\n",
       "      <td>ISL</td>\n",
       "      <td>10</td>\n",
       "      <td>3</td>\n",
       "      <td>0.045000</td>\n",
       "    </tr>\n",
       "  </tbody>\n",
       "</table>\n",
       "</div>"
      ],
      "text/plain": [
       "                dattime  client country  ad_type  total_impressions  \\\n",
       "0   2021-06-06*06:00:00       1     EST        2                137   \n",
       "1   2021-06-12*22:00:00       2     DZA        2               4424   \n",
       "2   2021-06-05*20:00:00       1     NCL        2                271   \n",
       "3   2021-06-23*17:00:00       1     EST       17                  1   \n",
       "4   2021-06-02*10:00:00       3     NCL        2              11701   \n",
       "5   2021-06-11*16:00:00       4     DZA        2               1496   \n",
       "6   2021-06-19*08:00:00       5     DZA       10                 16   \n",
       "7   2021-06-20*03:00:00       6     DZA       10                  1   \n",
       "8   2021-06-03*21:00:00       7     NCL       10                  8   \n",
       "9   2021-06-21*15:00:00       8     DZA       17                  1   \n",
       "10  2021-06-27*01:00:00       9     ISL       10                 75   \n",
       "11  2021-06-10*16:00:00      10     EST       10                 78   \n",
       "12  2021-06-15*19:00:00      11     ISL        2                932   \n",
       "13  2021-06-29*15:00:00      12     NCL       10                 59   \n",
       "14  2021-06-05*12:00:00      13     EST       10                197   \n",
       "15  2021-06-13*21:00:00      14     ISL        2                 58   \n",
       "16  2021-06-10*02:00:00      15     EST        2               1070   \n",
       "17  2021-06-18*15:00:00       1     DZA        2                  1   \n",
       "18  2021-06-04*04:00:00       8     ISL        2                119   \n",
       "19  2021-06-17*15:00:00      16     ISL       10                  3   \n",
       "\n",
       "    total_value  \n",
       "0      0.137000  \n",
       "1     91.720657  \n",
       "2      0.271000  \n",
       "3      0.001000  \n",
       "4      4.871900  \n",
       "5      0.308200  \n",
       "6      0.160000  \n",
       "7      0.024500  \n",
       "8      0.184000  \n",
       "9      0.002000  \n",
       "10     0.557920  \n",
       "11     0.042000  \n",
       "12     4.666100  \n",
       "13     0.059000  \n",
       "14     0.000000  \n",
       "15     0.950000  \n",
       "16     0.167300  \n",
       "17     0.001000  \n",
       "18     0.021400  \n",
       "19     0.045000  "
      ]
     },
     "execution_count": 2,
     "metadata": {},
     "output_type": "execute_result"
    }
   ],
   "source": [
    "##read in the data and have an initial look\n",
    "df = pd.read_csv('data.csv', delimiter = ',')\n",
    "df.head(20)"
   ]
  },
  {
   "cell_type": "markdown",
   "id": "034adba4",
   "metadata": {},
   "source": [
    "<h1>Explanatory Analysis</h1>\n",
    "\n",
    "1. We are looking at a table which contains 6 columns and 96,223 entries. Out of the 6 variables, there are 3 category variables: client id, country code, and Ad type id. 2 numerical variables: total impressions and total values. Plus one date time variable."
   ]
  },
  {
   "cell_type": "code",
   "execution_count": 3,
   "id": "7dc16470",
   "metadata": {},
   "outputs": [
    {
     "name": "stdout",
     "output_type": "stream",
     "text": [
      "<class 'pandas.core.frame.DataFrame'>\n",
      "RangeIndex: 96223 entries, 0 to 96222\n",
      "Data columns (total 6 columns):\n",
      " #   Column             Non-Null Count  Dtype  \n",
      "---  ------             --------------  -----  \n",
      " 0   dattime            96223 non-null  object \n",
      " 1   client             96223 non-null  int64  \n",
      " 2   country            96223 non-null  object \n",
      " 3   ad_type            96223 non-null  int64  \n",
      " 4   total_impressions  96223 non-null  int64  \n",
      " 5   total_value        96223 non-null  float64\n",
      "dtypes: float64(1), int64(3), object(2)\n",
      "memory usage: 4.4+ MB\n"
     ]
    }
   ],
   "source": [
    "##from the below information we can see not all categorical variables are in the correct format\n",
    "df.info()\n",
    "\n",
    "#converting client and ad_type into string variables for better analysis later\n",
    "def convert_format(dimension):\n",
    "    df[dimension] = [str(x) for x in df[dimension]]\n",
    "convert_format('client')\n",
    "convert_format('ad_type')\n",
    "\n",
    "#might impact file size"
   ]
  },
  {
   "cell_type": "markdown",
   "id": "7e4cece9",
   "metadata": {},
   "source": [
    "2. Now we can take a general look at the categorical variables."
   ]
  },
  {
   "cell_type": "code",
   "execution_count": 4,
   "id": "10c49414",
   "metadata": {},
   "outputs": [
    {
     "name": "stdout",
     "output_type": "stream",
     "text": [
      "  country  Client numbers by country\n",
      "0     EST                         52\n",
      "1     NCL                         47\n",
      "2     ISL                         45\n",
      "3     DZA                         40\n",
      "4    ISL1                          1\n",
      "5  NCLNCL                          1\n"
     ]
    }
   ],
   "source": [
    "#counting the different numbers of clients that have been exposed to by every country\n",
    "def category_variable(dimension):\n",
    "    print(df.groupby(dimension)['client'].nunique().sort_values(ascending=False).reset_index(name= f\"Client numbers by {dimension}\"))\n",
    "category_variable('country')"
   ]
  },
  {
   "cell_type": "markdown",
   "id": "81f098ae",
   "metadata": {},
   "source": [
    "We have 6 countries in the dataset in total, except from ISL1 and NCLNCL which only have impressions shown to one client, the rest 4 countries have had impressions shown to around 40 - 52 clients."
   ]
  },
  {
   "cell_type": "code",
   "execution_count": 5,
   "id": "c2a4551f",
   "metadata": {},
   "outputs": [
    {
     "name": "stdout",
     "output_type": "stream",
     "text": [
      "  ad_type  Client numbers by ad_type\n",
      "0      10                         69\n",
      "1       2                         53\n",
      "2      17                         37\n",
      "3      15                         11\n"
     ]
    }
   ],
   "source": [
    "#counting the different numbers of clients that have been exposed to by every ad type.\n",
    "category_variable('ad_type')"
   ]
  },
  {
   "cell_type": "markdown",
   "id": "2ff05c23",
   "metadata": {},
   "source": [
    "We have 4 different ad types in the dataset in total, type 10 and type 2 have been shown to more clients while type 17 and type 15 have been shown to less.\n"
   ]
  },
  {
   "cell_type": "markdown",
   "id": "6c8d19f4",
   "metadata": {},
   "source": [
    "Here we move on to look at the datetime column"
   ]
  },
  {
   "cell_type": "code",
   "execution_count": 6,
   "id": "bdb5163a",
   "metadata": {},
   "outputs": [
    {
     "name": "stdout",
     "output_type": "stream",
     "text": [
      "2021-06-26    3730\n",
      "2021-06-24    3656\n",
      "2021-06-29    3602\n",
      "2021-06-25    3575\n",
      "2021-06-23    3565\n",
      "2021-06-27    3500\n",
      "2021-06-28    3492\n",
      "2021-06-22    3460\n",
      "2021-06-21    3441\n",
      "2021-06-16    3320\n",
      "2021-06-17    3318\n",
      "2021-06-18    3315\n",
      "2021-06-09    3313\n",
      "2021-06-19    3298\n",
      "2021-06-04    3297\n",
      "2021-06-06    3286\n",
      "2021-06-11    3268\n",
      "2021-06-05    3267\n",
      "2021-06-03    3229\n",
      "2021-06-08    3222\n",
      "2021-06-20    3221\n",
      "2021-06-10    3210\n",
      "2021-06-07    3208\n",
      "2021-06-15    3176\n",
      "2021-06-12    3136\n",
      "2021-06-02    3094\n",
      "2021-06-14    3059\n",
      "2021-06-13    3053\n",
      "2021-06-01    2911\n",
      "2006-06-12       1\n",
      "Name: Date, dtype: int64\n"
     ]
    }
   ],
   "source": [
    "#checking how many records are under each date and the ranges of the date\n",
    "def date_format(column,new_date):\n",
    "    df[column] = pd.to_datetime(df[column], format='%Y-%m-%d*%H:%M:%S')\n",
    "    ##extracting dates out of the datetime variable\n",
    "    df[new_date] = [x.date() for x in df[column]]\n",
    "    print(df[new_date].value_counts())\n",
    "    \n",
    "\n",
    "date_format('dattime','Date')   "
   ]
  },
  {
   "cell_type": "markdown",
   "id": "3c8582f6",
   "metadata": {},
   "source": [
    "Apart from one entry with the date '2006-06-12', all entries were taken in June, 2021 and each date has around 3000 - 4000 data entries. We believe the entry with the date '2006-06-12' is out of range and could have been mistaken when recording , therefore we take out this data point for future calculation accuracy."
   ]
  },
  {
   "cell_type": "code",
   "execution_count": 7,
   "id": "190ccd54",
   "metadata": {},
   "outputs": [
    {
     "data": {
      "text/plain": [
       "2021-06-26    3730\n",
       "2021-06-24    3656\n",
       "2021-06-29    3602\n",
       "2021-06-25    3575\n",
       "2021-06-23    3565\n",
       "2021-06-27    3500\n",
       "2021-06-28    3492\n",
       "2021-06-22    3460\n",
       "2021-06-21    3441\n",
       "2021-06-16    3320\n",
       "2021-06-17    3318\n",
       "2021-06-18    3315\n",
       "2021-06-09    3313\n",
       "2021-06-19    3298\n",
       "2021-06-04    3297\n",
       "2021-06-06    3286\n",
       "2021-06-11    3268\n",
       "2021-06-05    3267\n",
       "2021-06-03    3229\n",
       "2021-06-08    3222\n",
       "2021-06-20    3221\n",
       "2021-06-10    3210\n",
       "2021-06-07    3208\n",
       "2021-06-15    3176\n",
       "2021-06-12    3136\n",
       "2021-06-02    3094\n",
       "2021-06-14    3059\n",
       "2021-06-13    3053\n",
       "2021-06-01    2911\n",
       "Name: Date, dtype: int64"
      ]
     },
     "execution_count": 7,
     "metadata": {},
     "output_type": "execute_result"
    }
   ],
   "source": [
    "#finding out the dataframe index of the value needed to be deleted and delete from dataframe\n",
    "def delete_date(datetime):\n",
    "    idx_names = df[df.Date == datetime].index\n",
    "    df.drop(idx_names, inplace=True)\n",
    "    df.reset_index()\n",
    "#since there is only one invalid date which was too early, we are deleting the record with the earliest date\n",
    "datetime = min(df['Date'])\n",
    "delete_date(datetime)\n",
    "\n",
    "#confirming the invalid date has been deleted\n",
    "df['Date'].value_counts()"
   ]
  },
  {
   "cell_type": "markdown",
   "id": "2872e64c",
   "metadata": {},
   "source": [
    "Further looking into the number of total impressions shown to a client and the total values a client pays at a given time."
   ]
  },
  {
   "cell_type": "code",
   "execution_count": 8,
   "id": "6047b7b1",
   "metadata": {},
   "outputs": [
    {
     "data": {
      "text/html": [
       "<div>\n",
       "<style scoped>\n",
       "    .dataframe tbody tr th:only-of-type {\n",
       "        vertical-align: middle;\n",
       "    }\n",
       "\n",
       "    .dataframe tbody tr th {\n",
       "        vertical-align: top;\n",
       "    }\n",
       "\n",
       "    .dataframe thead th {\n",
       "        text-align: right;\n",
       "    }\n",
       "</style>\n",
       "<table border=\"1\" class=\"dataframe\">\n",
       "  <thead>\n",
       "    <tr style=\"text-align: right;\">\n",
       "      <th></th>\n",
       "      <th>total_impressions</th>\n",
       "      <th>total_value</th>\n",
       "    </tr>\n",
       "  </thead>\n",
       "  <tbody>\n",
       "    <tr>\n",
       "      <th>count</th>\n",
       "      <td>96222.000000</td>\n",
       "      <td>96222.000000</td>\n",
       "    </tr>\n",
       "    <tr>\n",
       "      <th>mean</th>\n",
       "      <td>4045.404679</td>\n",
       "      <td>4.001687</td>\n",
       "    </tr>\n",
       "    <tr>\n",
       "      <th>std</th>\n",
       "      <td>31901.139743</td>\n",
       "      <td>15.082753</td>\n",
       "    </tr>\n",
       "    <tr>\n",
       "      <th>min</th>\n",
       "      <td>-4502.000000</td>\n",
       "      <td>0.000000</td>\n",
       "    </tr>\n",
       "    <tr>\n",
       "      <th>25%</th>\n",
       "      <td>7.000000</td>\n",
       "      <td>0.020100</td>\n",
       "    </tr>\n",
       "    <tr>\n",
       "      <th>50%</th>\n",
       "      <td>42.000000</td>\n",
       "      <td>0.140000</td>\n",
       "    </tr>\n",
       "    <tr>\n",
       "      <th>75%</th>\n",
       "      <td>378.000000</td>\n",
       "      <td>1.104278</td>\n",
       "    </tr>\n",
       "    <tr>\n",
       "      <th>max</th>\n",
       "      <td>941289.000000</td>\n",
       "      <td>846.000000</td>\n",
       "    </tr>\n",
       "  </tbody>\n",
       "</table>\n",
       "</div>"
      ],
      "text/plain": [
       "       total_impressions   total_value\n",
       "count       96222.000000  96222.000000\n",
       "mean         4045.404679      4.001687\n",
       "std         31901.139743     15.082753\n",
       "min         -4502.000000      0.000000\n",
       "25%             7.000000      0.020100\n",
       "50%            42.000000      0.140000\n",
       "75%           378.000000      1.104278\n",
       "max        941289.000000    846.000000"
      ]
     },
     "execution_count": 8,
     "metadata": {},
     "output_type": "execute_result"
    }
   ],
   "source": [
    "df.describe()"
   ]
  },
  {
   "cell_type": "markdown",
   "id": "d5a50db7",
   "metadata": {},
   "source": [
    "We can see in total impressions there are some negative values which are invalid, since clients can only be shown a positive amount of advertisements at a given time, we will delete these invalid data entries. Total values column seems to have no invalid value."
   ]
  },
  {
   "cell_type": "code",
   "execution_count": 9,
   "id": "9e9ec228",
   "metadata": {},
   "outputs": [
    {
     "data": {
      "text/html": [
       "<div>\n",
       "<style scoped>\n",
       "    .dataframe tbody tr th:only-of-type {\n",
       "        vertical-align: middle;\n",
       "    }\n",
       "\n",
       "    .dataframe tbody tr th {\n",
       "        vertical-align: top;\n",
       "    }\n",
       "\n",
       "    .dataframe thead th {\n",
       "        text-align: right;\n",
       "    }\n",
       "</style>\n",
       "<table border=\"1\" class=\"dataframe\">\n",
       "  <thead>\n",
       "    <tr style=\"text-align: right;\">\n",
       "      <th></th>\n",
       "      <th>total_impressions</th>\n",
       "      <th>total_value</th>\n",
       "    </tr>\n",
       "  </thead>\n",
       "  <tbody>\n",
       "    <tr>\n",
       "      <th>count</th>\n",
       "      <td>96220.000000</td>\n",
       "      <td>96220.000000</td>\n",
       "    </tr>\n",
       "    <tr>\n",
       "      <th>mean</th>\n",
       "      <td>4045.535554</td>\n",
       "      <td>4.001708</td>\n",
       "    </tr>\n",
       "    <tr>\n",
       "      <th>std</th>\n",
       "      <td>31901.456722</td>\n",
       "      <td>15.082903</td>\n",
       "    </tr>\n",
       "    <tr>\n",
       "      <th>min</th>\n",
       "      <td>1.000000</td>\n",
       "      <td>0.000000</td>\n",
       "    </tr>\n",
       "    <tr>\n",
       "      <th>25%</th>\n",
       "      <td>7.000000</td>\n",
       "      <td>0.020100</td>\n",
       "    </tr>\n",
       "    <tr>\n",
       "      <th>50%</th>\n",
       "      <td>42.000000</td>\n",
       "      <td>0.140000</td>\n",
       "    </tr>\n",
       "    <tr>\n",
       "      <th>75%</th>\n",
       "      <td>378.000000</td>\n",
       "      <td>1.104093</td>\n",
       "    </tr>\n",
       "    <tr>\n",
       "      <th>max</th>\n",
       "      <td>941289.000000</td>\n",
       "      <td>846.000000</td>\n",
       "    </tr>\n",
       "  </tbody>\n",
       "</table>\n",
       "</div>"
      ],
      "text/plain": [
       "       total_impressions   total_value\n",
       "count       96220.000000  96220.000000\n",
       "mean         4045.535554      4.001708\n",
       "std         31901.456722     15.082903\n",
       "min             1.000000      0.000000\n",
       "25%             7.000000      0.020100\n",
       "50%            42.000000      0.140000\n",
       "75%           378.000000      1.104093\n",
       "max        941289.000000    846.000000"
      ]
     },
     "execution_count": 9,
     "metadata": {},
     "output_type": "execute_result"
    }
   ],
   "source": [
    "#delete records with negative numbers of impressions\n",
    "def delete_impression():\n",
    "    idx_names = df[df.total_impressions <= 0].index\n",
    "    df.drop(idx_names, inplace=True)\n",
    "    df.reset_index()\n",
    "delete_impression()\n",
    "df.describe()"
   ]
  },
  {
   "cell_type": "markdown",
   "id": "b06c5e0e",
   "metadata": {},
   "source": [
    "From the dataframe with invalid impressions being deleted, we can see following:\n",
    "- total impressions range between 1 to 941289, crossing a rather considerable range, the average impressions of the records is 4045.5 impressions, however the median is only 42.\n",
    "- total value range between 0 to 846, also crossing a rather considerable range, the average value of the records is 4 cents, however the median is only 0.14. \n",
    "Here we suspect that the distributions of total impressions and total value could be skewed."
   ]
  },
  {
   "cell_type": "code",
   "execution_count": 10,
   "id": "1eb26e29",
   "metadata": {},
   "outputs": [],
   "source": [
    "# seaborn histogram\n",
    "def hist_plot(df,dimension):\n",
    "    sns.distplot(df[dimension], hist=True, kde=False, \n",
    "             bins=int(180/5), color = 'blue',\n",
    "             hist_kws={'edgecolor':'black'}).set(title = f\"Count of {dimension}\")"
   ]
  },
  {
   "cell_type": "code",
   "execution_count": 11,
   "id": "e2ecce4c",
   "metadata": {},
   "outputs": [
    {
     "name": "stderr",
     "output_type": "stream",
     "text": [
      "C:\\Users\\sydne\\Anaconda3\\lib\\site-packages\\seaborn\\distributions.py:2557: FutureWarning: `distplot` is a deprecated function and will be removed in a future version. Please adapt your code to use either `displot` (a figure-level function with similar flexibility) or `histplot` (an axes-level function for histograms).\n",
      "  warnings.warn(msg, FutureWarning)\n"
     ]
    },
    {
     "data": {
      "image/png": "[encoded data removed]",
      "text/plain": [
       "<Figure size 432x288 with 1 Axes>"
      ]
     },
     "metadata": {
      "needs_background": "light"
     },
     "output_type": "display_data"
    }
   ],
   "source": [
    "hist_plot(df,'total_impressions')"
   ]
  },
  {
   "cell_type": "code",
   "execution_count": 12,
   "id": "6d77dc58",
   "metadata": {},
   "outputs": [
    {
     "data": {
      "image/png": "[encoded data removed]",
      "text/plain": [
       "<Figure size 432x288 with 1 Axes>"
      ]
     },
     "metadata": {
      "needs_background": "light"
     },
     "output_type": "display_data"
    }
   ],
   "source": [
    "hist_plot(df,'total_value')"
   ]
  },
  {
   "cell_type": "markdown",
   "id": "f4350c1d",
   "metadata": {},
   "source": [
    "Plotting the corresponding histogram of total impressions and total value, we can conclude both variables are right skewed."
   ]
  },
  {
   "cell_type": "markdown",
   "id": "bd97d65d",
   "metadata": {},
   "source": [
    "Now we take a look at the distribution of the impressions, first we would like to see how advertisements were shown in different countries."
   ]
  },
  {
   "cell_type": "code",
   "execution_count": 13,
   "id": "f2dbf41a",
   "metadata": {},
   "outputs": [
    {
     "data": {
      "image/png": "[encoded data removed]",
      "text/plain": [
       "<Figure size 432x288 with 1 Axes>"
      ]
     },
     "metadata": {},
     "output_type": "display_data"
    }
   ],
   "source": [
    "#calculate the total impressions shown in every country\n",
    "df_country = df.groupby(['country'])['total_impressions'].sum().sort_values(ascending=False).reset_index(name= f\"total_impressions\")\n",
    "\n",
    "#create a pie chart for the distribution of the impressions\n",
    "def pie_plot(data,label):\n",
    "    data = data\n",
    "    labels = label\n",
    "\n",
    "#define Seaborn color palette to use\n",
    "    colors = sns.color_palette('pastel')[0:len(labels)]\n",
    "\n",
    "#create pie chart\n",
    "    plt.pie(data, labels = labels, colors = colors, autopct='%.0f%%')\n",
    "    plt.show()\n",
    "pie_plot(df_country['total_impressions'],df_country['country'])    "
   ]
  },
  {
   "cell_type": "markdown",
   "id": "24346d0f",
   "metadata": {},
   "source": [
    "80% of the advertisements were shown in the country NCL, making up the majority of the impressions. 12% in EST, 6% in ISL, 3% in DZA, while the rest 2 countries almost account to none. We suggest country NCL could have a greater population or audience base for the advertisements."
   ]
  },
  {
   "cell_type": "markdown",
   "id": "79058a8f",
   "metadata": {},
   "source": [
    "Similarly as the distribution of impressions by country, we can also look at impressions by ad type."
   ]
  },
  {
   "cell_type": "code",
   "execution_count": 14,
   "id": "04bee268",
   "metadata": {},
   "outputs": [
    {
     "data": {
      "image/png": "[encoded data removed]",
      "text/plain": [
       "<Figure size 432x288 with 1 Axes>"
      ]
     },
     "metadata": {},
     "output_type": "display_data"
    }
   ],
   "source": [
    "#calculate the amount of impressions shown in every ad type and create a pie chart\n",
    "df_ad = df.groupby(['ad_type'])['total_impressions'].sum().sort_values(ascending=False).reset_index(name= f\"total_impressions\")\n",
    "pie_plot(df_ad['total_impressions'],df_ad['ad_type'])   "
   ]
  },
  {
   "cell_type": "markdown",
   "id": "37129c3d",
   "metadata": {},
   "source": [
    "More than half of the advertisements have the ad_type 10, making the most popular advertisement type, ad_type 2 also make up a big part of the total impressions. While the 2 other types almost account to none. We suggest advertisement type 10 could be the most popular format among advertisements."
   ]
  },
  {
   "cell_type": "markdown",
   "id": "686df4a5",
   "metadata": {},
   "source": [
    "Now we move on to the distribution of the total amounts clients have been paying for the impressions. First we look at the total values clients paid by country."
   ]
  },
  {
   "cell_type": "code",
   "execution_count": 15,
   "id": "1917f3e2",
   "metadata": {},
   "outputs": [
    {
     "data": {
      "text/plain": [
       "Text(0.5, 1.0, 'Total amounts payed by country')"
      ]
     },
     "execution_count": 15,
     "metadata": {},
     "output_type": "execute_result"
    },
    {
     "data": {
      "image/png": "[encoded data removed]",
      "text/plain": [
       "<Figure size 432x288 with 1 Axes>"
      ]
     },
     "metadata": {
      "needs_background": "light"
     },
     "output_type": "display_data"
    }
   ],
   "source": [
    "#calculate the amount paid in different countries and create a bar chart\n",
    "df_con_val = df.groupby(['country'])['total_value'].sum().sort_values(ascending=False).reset_index(name= f\"total_value\")\n",
    "sns.barplot(data=df_con_val, x=\"country\", y=\"total_value\").set_title(\"Total amounts payed by country\")"
   ]
  },
  {
   "cell_type": "markdown",
   "id": "90d8518f",
   "metadata": {},
   "source": [
    "It is interesting to see although in country NCL impressions were shown the most, EST and DZA's clients have been paying more for the advertisements shown. We suggest in countries such as EST and DZA clients might have a better click through rate or conversion rate (depending on the model)."
   ]
  },
  {
   "cell_type": "code",
   "execution_count": 16,
   "id": "fd61dc0b",
   "metadata": {},
   "outputs": [
    {
     "data": {
      "text/plain": [
       "Text(0.5, 1.0, 'Total amounts payed by advertisement type')"
      ]
     },
     "execution_count": 16,
     "metadata": {},
     "output_type": "execute_result"
    },
    {
     "data": {
      "image/png": "[encoded data removed]",
      "text/plain": [
       "<Figure size 432x288 with 1 Axes>"
      ]
     },
     "metadata": {
      "needs_background": "light"
     },
     "output_type": "display_data"
    }
   ],
   "source": [
    "#calculate the amount paid in different ad types and create a bar chart\n",
    "df_ad_val = df.groupby(['ad_type'])['total_value'].sum().sort_values(ascending=False).reset_index(name= f\"total_value\")\n",
    "sns.barplot(data=df_ad_val, x=\"ad_type\", y=\"total_value\").set_title(\"Total amounts payed by advertisement type\")"
   ]
  },
  {
   "cell_type": "markdown",
   "id": "97a15ee0",
   "metadata": {},
   "source": [
    "Not surprisingly, more amounts have been payed for advertisement type 10 and 2.\n",
    "We now conclude for the explanatory analysis part."
   ]
  },
  {
   "cell_type": "markdown",
   "id": "cc7b210d",
   "metadata": {},
   "source": [
    "<h1>Analysis of eCPM</h1>"
   ]
  },
  {
   "cell_type": "code",
   "execution_count": 17,
   "id": "c12d63e8",
   "metadata": {},
   "outputs": [
    {
     "data": {
      "text/html": [
       "<div>\n",
       "<style scoped>\n",
       "    .dataframe tbody tr th:only-of-type {\n",
       "        vertical-align: middle;\n",
       "    }\n",
       "\n",
       "    .dataframe tbody tr th {\n",
       "        vertical-align: top;\n",
       "    }\n",
       "\n",
       "    .dataframe thead th {\n",
       "        text-align: right;\n",
       "    }\n",
       "</style>\n",
       "<table border=\"1\" class=\"dataframe\">\n",
       "  <thead>\n",
       "    <tr style=\"text-align: right;\">\n",
       "      <th></th>\n",
       "      <th>country</th>\n",
       "      <th>ad_type</th>\n",
       "      <th>total_value</th>\n",
       "      <th>total_impressions</th>\n",
       "      <th>ecpm</th>\n",
       "    </tr>\n",
       "  </thead>\n",
       "  <tbody>\n",
       "    <tr>\n",
       "      <th>0</th>\n",
       "      <td>DZA</td>\n",
       "      <td>10</td>\n",
       "      <td>66507.476094</td>\n",
       "      <td>7764619</td>\n",
       "      <td>8.565453</td>\n",
       "    </tr>\n",
       "    <tr>\n",
       "      <th>1</th>\n",
       "      <td>DZA</td>\n",
       "      <td>15</td>\n",
       "      <td>16.713391</td>\n",
       "      <td>5546</td>\n",
       "      <td>3.013594</td>\n",
       "    </tr>\n",
       "    <tr>\n",
       "      <th>2</th>\n",
       "      <td>DZA</td>\n",
       "      <td>17</td>\n",
       "      <td>42.245708</td>\n",
       "      <td>17440</td>\n",
       "      <td>2.422346</td>\n",
       "    </tr>\n",
       "    <tr>\n",
       "      <th>3</th>\n",
       "      <td>DZA</td>\n",
       "      <td>2</td>\n",
       "      <td>51331.605784</td>\n",
       "      <td>4481430</td>\n",
       "      <td>11.454292</td>\n",
       "    </tr>\n",
       "    <tr>\n",
       "      <th>4</th>\n",
       "      <td>EST</td>\n",
       "      <td>10</td>\n",
       "      <td>85811.505606</td>\n",
       "      <td>30524398</td>\n",
       "      <td>2.811243</td>\n",
       "    </tr>\n",
       "    <tr>\n",
       "      <th>5</th>\n",
       "      <td>EST</td>\n",
       "      <td>15</td>\n",
       "      <td>23.717400</td>\n",
       "      <td>22860</td>\n",
       "      <td>1.037507</td>\n",
       "    </tr>\n",
       "    <tr>\n",
       "      <th>6</th>\n",
       "      <td>EST</td>\n",
       "      <td>17</td>\n",
       "      <td>199.504492</td>\n",
       "      <td>83612</td>\n",
       "      <td>2.386075</td>\n",
       "    </tr>\n",
       "    <tr>\n",
       "      <th>7</th>\n",
       "      <td>EST</td>\n",
       "      <td>2</td>\n",
       "      <td>40868.109334</td>\n",
       "      <td>14593959</td>\n",
       "      <td>2.800344</td>\n",
       "    </tr>\n",
       "    <tr>\n",
       "      <th>8</th>\n",
       "      <td>ISL</td>\n",
       "      <td>10</td>\n",
       "      <td>14342.543962</td>\n",
       "      <td>15694153</td>\n",
       "      <td>0.913878</td>\n",
       "    </tr>\n",
       "    <tr>\n",
       "      <th>9</th>\n",
       "      <td>ISL</td>\n",
       "      <td>15</td>\n",
       "      <td>6.634900</td>\n",
       "      <td>5117</td>\n",
       "      <td>1.296639</td>\n",
       "    </tr>\n",
       "    <tr>\n",
       "      <th>10</th>\n",
       "      <td>ISL</td>\n",
       "      <td>17</td>\n",
       "      <td>104.976793</td>\n",
       "      <td>58403</td>\n",
       "      <td>1.797455</td>\n",
       "    </tr>\n",
       "    <tr>\n",
       "      <th>11</th>\n",
       "      <td>ISL</td>\n",
       "      <td>2</td>\n",
       "      <td>12068.908193</td>\n",
       "      <td>6362003</td>\n",
       "      <td>1.897030</td>\n",
       "    </tr>\n",
       "    <tr>\n",
       "      <th>12</th>\n",
       "      <td>ISL1</td>\n",
       "      <td>10</td>\n",
       "      <td>0.031105</td>\n",
       "      <td>6</td>\n",
       "      <td>5.184167</td>\n",
       "    </tr>\n",
       "    <tr>\n",
       "      <th>13</th>\n",
       "      <td>NCL</td>\n",
       "      <td>10</td>\n",
       "      <td>64404.931050</td>\n",
       "      <td>209733566</td>\n",
       "      <td>0.307080</td>\n",
       "    </tr>\n",
       "    <tr>\n",
       "      <th>14</th>\n",
       "      <td>NCL</td>\n",
       "      <td>15</td>\n",
       "      <td>48.220374</td>\n",
       "      <td>36129</td>\n",
       "      <td>1.334672</td>\n",
       "    </tr>\n",
       "    <tr>\n",
       "      <th>15</th>\n",
       "      <td>NCL</td>\n",
       "      <td>17</td>\n",
       "      <td>130.591888</td>\n",
       "      <td>288743</td>\n",
       "      <td>0.452277</td>\n",
       "    </tr>\n",
       "    <tr>\n",
       "      <th>16</th>\n",
       "      <td>NCL</td>\n",
       "      <td>2</td>\n",
       "      <td>49136.563780</td>\n",
       "      <td>99589434</td>\n",
       "      <td>0.493391</td>\n",
       "    </tr>\n",
       "    <tr>\n",
       "      <th>17</th>\n",
       "      <td>NCLNCL</td>\n",
       "      <td>10</td>\n",
       "      <td>0.037000</td>\n",
       "      <td>13</td>\n",
       "      <td>2.846154</td>\n",
       "    </tr>\n",
       "  </tbody>\n",
       "</table>\n",
       "</div>"
      ],
      "text/plain": [
       "   country ad_type   total_value  total_impressions       ecpm\n",
       "0      DZA      10  66507.476094            7764619   8.565453\n",
       "1      DZA      15     16.713391               5546   3.013594\n",
       "2      DZA      17     42.245708              17440   2.422346\n",
       "3      DZA       2  51331.605784            4481430  11.454292\n",
       "4      EST      10  85811.505606           30524398   2.811243\n",
       "5      EST      15     23.717400              22860   1.037507\n",
       "6      EST      17    199.504492              83612   2.386075\n",
       "7      EST       2  40868.109334           14593959   2.800344\n",
       "8      ISL      10  14342.543962           15694153   0.913878\n",
       "9      ISL      15      6.634900               5117   1.296639\n",
       "10     ISL      17    104.976793              58403   1.797455\n",
       "11     ISL       2  12068.908193            6362003   1.897030\n",
       "12    ISL1      10      0.031105                  6   5.184167\n",
       "13     NCL      10  64404.931050          209733566   0.307080\n",
       "14     NCL      15     48.220374              36129   1.334672\n",
       "15     NCL      17    130.591888             288743   0.452277\n",
       "16     NCL       2  49136.563780           99589434   0.493391\n",
       "17  NCLNCL      10      0.037000                 13   2.846154"
      ]
     },
     "execution_count": 17,
     "metadata": {},
     "output_type": "execute_result"
    }
   ],
   "source": [
    "#calculate the ecpm under different parameters, in groups we can put the variables that we want to breakdown ecpm in\n",
    "\n",
    "def calc_ecpm(df, groups):\n",
    "    #calculate the total impressions broken down (e.g. by country and ad_type)\n",
    "    impression = df.groupby(groups)['total_impressions'].sum().reset_index()\n",
    "    \n",
    "    #calculate the total amount spent broken down (e.g. by country and ad_type)\n",
    "    cost = df.groupby(groups)['total_value'].sum().reset_index()\n",
    " \n",
    "    cost['total_impressions'] = impression['total_impressions']\n",
    "    #ecpm equals the total amount spent of one country and one ad_type times 1000 over the total impressions\n",
    "    cost['ecpm'] = cost['total_value'] * 1000 / cost['total_impressions']\n",
    "    return cost\n",
    "\n",
    "#calculate the ecpm of different countries and ad types\n",
    "ecpm_total = calc_ecpm(df, ['country', 'ad_type']) \n",
    "ecpm_total"
   ]
  },
  {
   "cell_type": "code",
   "execution_count": 18,
   "id": "44f96b35",
   "metadata": {},
   "outputs": [
    {
     "data": {
      "text/html": [
       "<div>\n",
       "<style scoped>\n",
       "    .dataframe tbody tr th:only-of-type {\n",
       "        vertical-align: middle;\n",
       "    }\n",
       "\n",
       "    .dataframe tbody tr th {\n",
       "        vertical-align: top;\n",
       "    }\n",
       "\n",
       "    .dataframe thead th {\n",
       "        text-align: right;\n",
       "    }\n",
       "</style>\n",
       "<table border=\"1\" class=\"dataframe\">\n",
       "  <thead>\n",
       "    <tr style=\"text-align: right;\">\n",
       "      <th></th>\n",
       "      <th>country</th>\n",
       "      <th>total_value</th>\n",
       "      <th>total_impressions</th>\n",
       "      <th>ecpm</th>\n",
       "    </tr>\n",
       "  </thead>\n",
       "  <tbody>\n",
       "    <tr>\n",
       "      <th>0</th>\n",
       "      <td>DZA</td>\n",
       "      <td>117898.040977</td>\n",
       "      <td>12269035</td>\n",
       "      <td>9.609398</td>\n",
       "    </tr>\n",
       "    <tr>\n",
       "      <th>1</th>\n",
       "      <td>EST</td>\n",
       "      <td>126902.836831</td>\n",
       "      <td>45224829</td>\n",
       "      <td>2.806043</td>\n",
       "    </tr>\n",
       "    <tr>\n",
       "      <th>2</th>\n",
       "      <td>ISL</td>\n",
       "      <td>26523.063848</td>\n",
       "      <td>22119676</td>\n",
       "      <td>1.199071</td>\n",
       "    </tr>\n",
       "    <tr>\n",
       "      <th>3</th>\n",
       "      <td>ISL1</td>\n",
       "      <td>0.031105</td>\n",
       "      <td>6</td>\n",
       "      <td>5.184167</td>\n",
       "    </tr>\n",
       "    <tr>\n",
       "      <th>4</th>\n",
       "      <td>NCL</td>\n",
       "      <td>113720.307092</td>\n",
       "      <td>309647872</td>\n",
       "      <td>0.367257</td>\n",
       "    </tr>\n",
       "    <tr>\n",
       "      <th>5</th>\n",
       "      <td>NCLNCL</td>\n",
       "      <td>0.037000</td>\n",
       "      <td>13</td>\n",
       "      <td>2.846154</td>\n",
       "    </tr>\n",
       "  </tbody>\n",
       "</table>\n",
       "</div>"
      ],
      "text/plain": [
       "  country    total_value  total_impressions      ecpm\n",
       "0     DZA  117898.040977           12269035  9.609398\n",
       "1     EST  126902.836831           45224829  2.806043\n",
       "2     ISL   26523.063848           22119676  1.199071\n",
       "3    ISL1       0.031105                  6  5.184167\n",
       "4     NCL  113720.307092          309647872  0.367257\n",
       "5  NCLNCL       0.037000                 13  2.846154"
      ]
     },
     "execution_count": 18,
     "metadata": {},
     "output_type": "execute_result"
    }
   ],
   "source": [
    "#calculate the ecpm by country\n",
    "ecpm_country = calc_ecpm(df, ['country']) \n",
    "ecpm_country"
   ]
  },
  {
   "cell_type": "markdown",
   "id": "cf6bdc24",
   "metadata": {},
   "source": [
    "<b> Country DZA has the highest ecpm of all countries 9.6 cents. </b>"
   ]
  },
  {
   "cell_type": "code",
   "execution_count": 19,
   "id": "7aaed9d7",
   "metadata": {},
   "outputs": [
    {
     "data": {
      "text/html": [
       "<div>\n",
       "<style scoped>\n",
       "    .dataframe tbody tr th:only-of-type {\n",
       "        vertical-align: middle;\n",
       "    }\n",
       "\n",
       "    .dataframe tbody tr th {\n",
       "        vertical-align: top;\n",
       "    }\n",
       "\n",
       "    .dataframe thead th {\n",
       "        text-align: right;\n",
       "    }\n",
       "</style>\n",
       "<table border=\"1\" class=\"dataframe\">\n",
       "  <thead>\n",
       "    <tr style=\"text-align: right;\">\n",
       "      <th></th>\n",
       "      <th>ad_type</th>\n",
       "      <th>total_value</th>\n",
       "      <th>total_impressions</th>\n",
       "      <th>ecpm</th>\n",
       "    </tr>\n",
       "  </thead>\n",
       "  <tbody>\n",
       "    <tr>\n",
       "      <th>0</th>\n",
       "      <td>10</td>\n",
       "      <td>231066.524818</td>\n",
       "      <td>263716755</td>\n",
       "      <td>0.876192</td>\n",
       "    </tr>\n",
       "    <tr>\n",
       "      <th>1</th>\n",
       "      <td>15</td>\n",
       "      <td>95.286065</td>\n",
       "      <td>69652</td>\n",
       "      <td>1.368031</td>\n",
       "    </tr>\n",
       "    <tr>\n",
       "      <th>2</th>\n",
       "      <td>17</td>\n",
       "      <td>477.318881</td>\n",
       "      <td>448198</td>\n",
       "      <td>1.064973</td>\n",
       "    </tr>\n",
       "    <tr>\n",
       "      <th>3</th>\n",
       "      <td>2</td>\n",
       "      <td>153405.187091</td>\n",
       "      <td>125026826</td>\n",
       "      <td>1.226978</td>\n",
       "    </tr>\n",
       "  </tbody>\n",
       "</table>\n",
       "</div>"
      ],
      "text/plain": [
       "  ad_type    total_value  total_impressions      ecpm\n",
       "0      10  231066.524818          263716755  0.876192\n",
       "1      15      95.286065              69652  1.368031\n",
       "2      17     477.318881             448198  1.064973\n",
       "3       2  153405.187091          125026826  1.226978"
      ]
     },
     "execution_count": 19,
     "metadata": {},
     "output_type": "execute_result"
    }
   ],
   "source": [
    "#calculate ecpm by ad type\n",
    "ecpm_ad_type = calc_ecpm(df, ['ad_type']) \n",
    "ecpm_ad_type"
   ]
  },
  {
   "cell_type": "markdown",
   "id": "6fb6d85e",
   "metadata": {},
   "source": [
    "<b>Ad type 15 has the highest ecpm 1.36 cents.</b>"
   ]
  },
  {
   "cell_type": "markdown",
   "id": "4098622f",
   "metadata": {},
   "source": [
    "To conclude, although country NCL has the most impressions shown, country DZA has the most amount paid, which could implicate it could be the most effective country for the advertisements.\n",
    "\n",
    "In addition, ecpm fluctuates greatly among countries but not with ad type, indicating the demographics of the users might have a bigger influence on ecpm."
   ]
  },
  {
   "cell_type": "markdown",
   "id": "322b0cf7",
   "metadata": {},
   "source": [
    "<h1> Temporal Analysis </h1>"
   ]
  },
  {
   "cell_type": "markdown",
   "id": "c2d41d02",
   "metadata": {},
   "source": [
    "<h3> Daily Analysis for DZA <h3/>"
   ]
  },
  {
   "cell_type": "code",
   "execution_count": 20,
   "id": "ada1810e",
   "metadata": {},
   "outputs": [],
   "source": [
    "#calculate the ecpm for country DZA for each day and ad type\n",
    "df_dza = df[df['country'] == 'DZA']\n",
    "ecpm_dza = calc_ecpm(df_dza, ['Date','ad_type'])\n"
   ]
  },
  {
   "cell_type": "code",
   "execution_count": 21,
   "id": "36590248",
   "metadata": {},
   "outputs": [
    {
     "data": {
      "image/png": "[encoded data removed]",
      "text/plain": [
       "<Figure size 864x576 with 1 Axes>"
      ]
     },
     "metadata": {
      "needs_background": "light"
     },
     "output_type": "display_data"
    }
   ],
   "source": [
    "#plot combined line charts for the ecpm throughout the month by different ad types\n",
    "def plot_ecpm(value,dimension_1, dimension_2, df):\n",
    "\n",
    "    fig, ax = plt.subplots(figsize=(12, 8))\n",
    " \n",
    "    sns.lineplot(x = dimension_1, y = value, hue = dimension_2, data = df, ax = ax)\n",
    "    ax.set(xticks = df[dimension_1].values)\n",
    "    ax.tick_params(axis ='x', rotation = 45)\n",
    "    ax.set_title(f\"eCPM June development by {dimension_2} and {dimension_1} for country DZA\")\n",
    "\n",
    "plot_ecpm('ecpm', 'Date', 'ad_type', ecpm_dza)"
   ]
  },
  {
   "cell_type": "markdown",
   "id": "710b254c",
   "metadata": {},
   "source": [
    "The ecpm development daily by ad type is shown above. We can conclude below:\n",
    "- while ad type 2, 10, 17 have less turbulent ecpm throughout June, ad type 15's ecpm is highly fluctuating, with periods where ecpm almost reach zero, and other days with extremely high ecpm. We can consider validating the data for advertisement 15 to see if our data has been collected correctly or if there is some mistakes in recording the data.\n",
    "- Through out the period ad type 2 seems to have the highest ecpm, and both 2 and 10 seem to experience a slight drop in the middle of the month and slight increase towards the end of the month. We can replicate the same data collection process among other months to see if this could be a recurrent seasonality behavior.\n"
   ]
  },
  {
   "cell_type": "markdown",
   "id": "b7f5edbc",
   "metadata": {},
   "source": [
    "<h3> Hourly Analysis for NCL <h3/>"
   ]
  },
  {
   "cell_type": "code",
   "execution_count": 22,
   "id": "6bdd0870",
   "metadata": {},
   "outputs": [
    {
     "name": "stderr",
     "output_type": "stream",
     "text": [
      "<ipython-input-22-757a45216a10>:3: SettingWithCopyWarning: \n",
      "A value is trying to be set on a copy of a slice from a DataFrame.\n",
      "Try using .loc[row_indexer,col_indexer] = value instead\n",
      "\n",
      "See the caveats in the documentation: https://pandas.pydata.org/pandas-docs/stable/user_guide/indexing.html#returning-a-view-versus-a-copy\n",
      "  df_ncl['Hour'] = [x.hour for x in df_ncl['dattime']]\n"
     ]
    },
    {
     "data": {
      "image/png": "[encoded data removed]",
      "text/plain": [
       "<Figure size 864x576 with 1 Axes>"
      ]
     },
     "metadata": {
      "needs_background": "light"
     },
     "output_type": "display_data"
    }
   ],
   "source": [
    "#calculate hourly ecpm from all data available for country NCL by ad type and plot line chart\n",
    "df_ncl = df[df['country'] == 'NCL']\n",
    "df_ncl['Hour'] = [x.hour for x in df_ncl['dattime']]\n",
    "ecpm_ncl = calc_ecpm(df_ncl, ['Hour','ad_type'])\n",
    "plot_ecpm('ecpm', 'Hour', 'ad_type', ecpm_ncl)"
   ]
  },
  {
   "cell_type": "markdown",
   "id": "624029f6",
   "metadata": {},
   "source": [
    "- Ad type 15 also has the highest hourly ecpm, however we might need further validation to confirm this finding.\n",
    "- Among the three other ad types, 17 seems to be paid the most in night time and past midnight while type 2 gets paid the most during the rest of the day (except from 11). We suggest ad type 17 could be a popular ad type when people are off work and is most engaging while people get off work during lunch break and back home.\n",
    "- All three ad types seem to peak around 6-7 am, we can also try to replicate the data in other months to see if there is time of day effect."
   ]
  },
  {
   "cell_type": "markdown",
   "id": "9d285258",
   "metadata": {},
   "source": [
    "To conclude, although type 10 advertisement has the most impressions shown to clients, type 2 seem to have a higher and stable ecpm, which means type 2 ad could have a better engagement to its audience. There seems to be pattern to be further explored for the day of the month and hour of the day effect, data of the other months could be collected to provide further analysis."
   ]
  },
  {
   "cell_type": "markdown",
   "id": "703d5714",
   "metadata": {},
   "source": [
    "<h1> Prediction of future eCPM </h1>"
   ]
  },
  {
   "cell_type": "code",
   "execution_count": 23,
   "id": "b66d1fcd",
   "metadata": {},
   "outputs": [
    {
     "data": {
      "text/html": [
       "<div>\n",
       "<style scoped>\n",
       "    .dataframe tbody tr th:only-of-type {\n",
       "        vertical-align: middle;\n",
       "    }\n",
       "\n",
       "    .dataframe tbody tr th {\n",
       "        vertical-align: top;\n",
       "    }\n",
       "\n",
       "    .dataframe thead th {\n",
       "        text-align: right;\n",
       "    }\n",
       "</style>\n",
       "<table border=\"1\" class=\"dataframe\">\n",
       "  <thead>\n",
       "    <tr style=\"text-align: right;\">\n",
       "      <th></th>\n",
       "      <th>Date</th>\n",
       "      <th>country</th>\n",
       "      <th>ad_type</th>\n",
       "      <th>total_value</th>\n",
       "      <th>total_impressions</th>\n",
       "      <th>ecpm</th>\n",
       "    </tr>\n",
       "  </thead>\n",
       "  <tbody>\n",
       "    <tr>\n",
       "      <th>0</th>\n",
       "      <td>2021-06-01</td>\n",
       "      <td>DZA</td>\n",
       "      <td>10</td>\n",
       "      <td>2311.174932</td>\n",
       "      <td>289033</td>\n",
       "      <td>7.996232</td>\n",
       "    </tr>\n",
       "    <tr>\n",
       "      <th>1</th>\n",
       "      <td>2021-06-01</td>\n",
       "      <td>DZA</td>\n",
       "      <td>15</td>\n",
       "      <td>0.019400</td>\n",
       "      <td>97</td>\n",
       "      <td>0.200000</td>\n",
       "    </tr>\n",
       "    <tr>\n",
       "      <th>2</th>\n",
       "      <td>2021-06-01</td>\n",
       "      <td>DZA</td>\n",
       "      <td>17</td>\n",
       "      <td>0.685411</td>\n",
       "      <td>840</td>\n",
       "      <td>0.815966</td>\n",
       "    </tr>\n",
       "    <tr>\n",
       "      <th>3</th>\n",
       "      <td>2021-06-01</td>\n",
       "      <td>DZA</td>\n",
       "      <td>2</td>\n",
       "      <td>1756.339772</td>\n",
       "      <td>162687</td>\n",
       "      <td>10.795821</td>\n",
       "    </tr>\n",
       "    <tr>\n",
       "      <th>4</th>\n",
       "      <td>2021-06-01</td>\n",
       "      <td>EST</td>\n",
       "      <td>10</td>\n",
       "      <td>2385.000243</td>\n",
       "      <td>968464</td>\n",
       "      <td>2.462663</td>\n",
       "    </tr>\n",
       "    <tr>\n",
       "      <th>...</th>\n",
       "      <td>...</td>\n",
       "      <td>...</td>\n",
       "      <td>...</td>\n",
       "      <td>...</td>\n",
       "      <td>...</td>\n",
       "      <td>...</td>\n",
       "    </tr>\n",
       "    <tr>\n",
       "      <th>450</th>\n",
       "      <td>2021-06-29</td>\n",
       "      <td>ISL</td>\n",
       "      <td>2</td>\n",
       "      <td>262.591239</td>\n",
       "      <td>190337</td>\n",
       "      <td>1.379612</td>\n",
       "    </tr>\n",
       "    <tr>\n",
       "      <th>451</th>\n",
       "      <td>2021-06-29</td>\n",
       "      <td>NCL</td>\n",
       "      <td>10</td>\n",
       "      <td>3869.641210</td>\n",
       "      <td>6960787</td>\n",
       "      <td>0.555920</td>\n",
       "    </tr>\n",
       "    <tr>\n",
       "      <th>452</th>\n",
       "      <td>2021-06-29</td>\n",
       "      <td>NCL</td>\n",
       "      <td>15</td>\n",
       "      <td>3.974600</td>\n",
       "      <td>2838</td>\n",
       "      <td>1.400493</td>\n",
       "    </tr>\n",
       "    <tr>\n",
       "      <th>453</th>\n",
       "      <td>2021-06-29</td>\n",
       "      <td>NCL</td>\n",
       "      <td>17</td>\n",
       "      <td>9.777759</td>\n",
       "      <td>10691</td>\n",
       "      <td>0.914579</td>\n",
       "    </tr>\n",
       "    <tr>\n",
       "      <th>454</th>\n",
       "      <td>2021-06-29</td>\n",
       "      <td>NCL</td>\n",
       "      <td>2</td>\n",
       "      <td>3364.485900</td>\n",
       "      <td>2944310</td>\n",
       "      <td>1.142708</td>\n",
       "    </tr>\n",
       "  </tbody>\n",
       "</table>\n",
       "<p>455 rows × 6 columns</p>\n",
       "</div>"
      ],
      "text/plain": [
       "           Date country ad_type  total_value  total_impressions       ecpm\n",
       "0    2021-06-01     DZA      10  2311.174932             289033   7.996232\n",
       "1    2021-06-01     DZA      15     0.019400                 97   0.200000\n",
       "2    2021-06-01     DZA      17     0.685411                840   0.815966\n",
       "3    2021-06-01     DZA       2  1756.339772             162687  10.795821\n",
       "4    2021-06-01     EST      10  2385.000243             968464   2.462663\n",
       "..          ...     ...     ...          ...                ...        ...\n",
       "450  2021-06-29     ISL       2   262.591239             190337   1.379612\n",
       "451  2021-06-29     NCL      10  3869.641210            6960787   0.555920\n",
       "452  2021-06-29     NCL      15     3.974600               2838   1.400493\n",
       "453  2021-06-29     NCL      17     9.777759              10691   0.914579\n",
       "454  2021-06-29     NCL       2  3364.485900            2944310   1.142708\n",
       "\n",
       "[455 rows x 6 columns]"
      ]
     },
     "execution_count": 23,
     "metadata": {},
     "output_type": "execute_result"
    }
   ],
   "source": [
    "#calculate the ecpm for all dates, country and ad type.\n",
    "ecpm_total = calc_ecpm(df, ['Date','country', 'ad_type']) \n",
    "ecpm_total"
   ]
  },
  {
   "cell_type": "markdown",
   "id": "5b39b49b",
   "metadata": {},
   "source": [
    "For predicting the future ecpm, <b>we suggest to use an ARIMAX model.</b>\n",
    "\n",
    "The ARIMAX (AutoRegressive Integrated Moving Average with exogenous variables) model is a time series model that incorporates the effect of one or more external variables in addition to the past values of the time series itself.\n",
    "\n",
    "In this case, we are not only looking at history ecpm values, but also we can take into considerations other exogenous variables such as country, ad type. The model would use these variables to capture any relationship between them and the ecpm, and make predictions based on those relationships.\n",
    "\n",
    "In addition, due to our small dataset, we recommend to utilize a cross-validation measure of the model, in order to evaluate the model training result and increase robustness of our model."
   ]
  },
  {
   "cell_type": "markdown",
   "id": "16a04423",
   "metadata": {},
   "source": [
    "In the model we are going to use, there are three main parameters:\n",
    "\n",
    "<b>p</b>: The autoregressive order, which represents how many past values we are using to predict future values.\n",
    "\n",
    "<b>d</b>: The degree of differencing, which represents the number of times the data is differenced in order to make it stationary. This is a quite technical concept which explanations will be omitted here.\n",
    "\n",
    "<b>q</b>: The moving average order, which represents the number of  forecast errors (residuals) to include in the model. \n",
    "\n",
    "Together, these parameters determine the structure of the ARIMA model and allow it to capture the temporal dependence and stationary properties of a time series."
   ]
  },
  {
   "cell_type": "code",
   "execution_count": 24,
   "id": "a4ef1da2",
   "metadata": {},
   "outputs": [
    {
     "name": "stderr",
     "output_type": "stream",
     "text": [
      "C:\\Users\\sydne\\Anaconda3\\lib\\site-packages\\statsmodels\\tsa\\base\\tsa_model.py:581: ValueWarning: A date index has been provided, but it has no associated frequency information and so will be ignored when e.g. forecasting.\n",
      "  warnings.warn('A date index has been provided, but it has no'\n",
      "C:\\Users\\sydne\\Anaconda3\\lib\\site-packages\\statsmodels\\tsa\\base\\tsa_model.py:581: ValueWarning: A date index has been provided, but it has no associated frequency information and so will be ignored when e.g. forecasting.\n",
      "  warnings.warn('A date index has been provided, but it has no'\n",
      "C:\\Users\\sydne\\Anaconda3\\lib\\site-packages\\statsmodels\\tsa\\base\\tsa_model.py:581: ValueWarning: A date index has been provided, but it has no associated frequency information and so will be ignored when e.g. forecasting.\n",
      "  warnings.warn('A date index has been provided, but it has no'\n",
      "C:\\Users\\sydne\\Anaconda3\\lib\\site-packages\\statsmodels\\tsa\\base\\tsa_model.py:376: ValueWarning: No supported index is available. Prediction results will be given with an integer index beginning at `start`.\n",
      "  warnings.warn('No supported index is available.'\n",
      "C:\\Users\\sydne\\Anaconda3\\lib\\site-packages\\statsmodels\\tsa\\base\\tsa_model.py:581: ValueWarning: A date index has been provided, but it has no associated frequency information and so will be ignored when e.g. forecasting.\n",
      "  warnings.warn('A date index has been provided, but it has no'\n",
      "C:\\Users\\sydne\\Anaconda3\\lib\\site-packages\\statsmodels\\tsa\\base\\tsa_model.py:581: ValueWarning: A date index has been provided, but it has no associated frequency information and so will be ignored when e.g. forecasting.\n",
      "  warnings.warn('A date index has been provided, but it has no'\n",
      "C:\\Users\\sydne\\Anaconda3\\lib\\site-packages\\statsmodels\\tsa\\base\\tsa_model.py:581: ValueWarning: A date index has been provided, but it has no associated frequency information and so will be ignored when e.g. forecasting.\n",
      "  warnings.warn('A date index has been provided, but it has no'\n",
      "C:\\Users\\sydne\\Anaconda3\\lib\\site-packages\\statsmodels\\tsa\\base\\tsa_model.py:376: ValueWarning: No supported index is available. Prediction results will be given with an integer index beginning at `start`.\n",
      "  warnings.warn('No supported index is available.'\n",
      "C:\\Users\\sydne\\Anaconda3\\lib\\site-packages\\statsmodels\\tsa\\base\\tsa_model.py:581: ValueWarning: A date index has been provided, but it has no associated frequency information and so will be ignored when e.g. forecasting.\n",
      "  warnings.warn('A date index has been provided, but it has no'\n",
      "C:\\Users\\sydne\\Anaconda3\\lib\\site-packages\\statsmodels\\tsa\\base\\tsa_model.py:581: ValueWarning: A date index has been provided, but it has no associated frequency information and so will be ignored when e.g. forecasting.\n",
      "  warnings.warn('A date index has been provided, but it has no'\n",
      "C:\\Users\\sydne\\Anaconda3\\lib\\site-packages\\statsmodels\\tsa\\base\\tsa_model.py:581: ValueWarning: A date index has been provided, but it has no associated frequency information and so will be ignored when e.g. forecasting.\n",
      "  warnings.warn('A date index has been provided, but it has no'\n",
      "C:\\Users\\sydne\\Anaconda3\\lib\\site-packages\\statsmodels\\tsa\\base\\tsa_model.py:376: ValueWarning: No supported index is available. Prediction results will be given with an integer index beginning at `start`.\n",
      "  warnings.warn('No supported index is available.'\n",
      "C:\\Users\\sydne\\Anaconda3\\lib\\site-packages\\statsmodels\\tsa\\base\\tsa_model.py:581: ValueWarning: A date index has been provided, but it has no associated frequency information and so will be ignored when e.g. forecasting.\n",
      "  warnings.warn('A date index has been provided, but it has no'\n",
      "C:\\Users\\sydne\\Anaconda3\\lib\\site-packages\\statsmodels\\tsa\\base\\tsa_model.py:581: ValueWarning: A date index has been provided, but it has no associated frequency information and so will be ignored when e.g. forecasting.\n",
      "  warnings.warn('A date index has been provided, but it has no'\n",
      "C:\\Users\\sydne\\Anaconda3\\lib\\site-packages\\statsmodels\\tsa\\base\\tsa_model.py:581: ValueWarning: A date index has been provided, but it has no associated frequency information and so will be ignored when e.g. forecasting.\n",
      "  warnings.warn('A date index has been provided, but it has no'\n",
      "C:\\Users\\sydne\\Anaconda3\\lib\\site-packages\\statsmodels\\tsa\\base\\tsa_model.py:376: ValueWarning: No supported index is available. Prediction results will be given with an integer index beginning at `start`.\n",
      "  warnings.warn('No supported index is available.'\n",
      "C:\\Users\\sydne\\Anaconda3\\lib\\site-packages\\statsmodels\\tsa\\base\\tsa_model.py:581: ValueWarning: A date index has been provided, but it has no associated frequency information and so will be ignored when e.g. forecasting.\n",
      "  warnings.warn('A date index has been provided, but it has no'\n",
      "C:\\Users\\sydne\\Anaconda3\\lib\\site-packages\\statsmodels\\tsa\\base\\tsa_model.py:581: ValueWarning: A date index has been provided, but it has no associated frequency information and so will be ignored when e.g. forecasting.\n",
      "  warnings.warn('A date index has been provided, but it has no'\n",
      "C:\\Users\\sydne\\Anaconda3\\lib\\site-packages\\statsmodels\\tsa\\base\\tsa_model.py:581: ValueWarning: A date index has been provided, but it has no associated frequency information and so will be ignored when e.g. forecasting.\n",
      "  warnings.warn('A date index has been provided, but it has no'\n",
      "C:\\Users\\sydne\\Anaconda3\\lib\\site-packages\\statsmodels\\tsa\\statespace\\sarimax.py:966: UserWarning: Non-stationary starting autoregressive parameters found. Using zeros as starting parameters.\n",
      "  warn('Non-stationary starting autoregressive parameters'\n",
      "C:\\Users\\sydne\\Anaconda3\\lib\\site-packages\\statsmodels\\tsa\\base\\tsa_model.py:376: ValueWarning: No supported index is available. Prediction results will be given with an integer index beginning at `start`.\n",
      "  warnings.warn('No supported index is available.'\n"
     ]
    },
    {
     "name": "stdout",
     "output_type": "stream",
     "text": [
      "Prediction:  3.3984627773357965\n",
      "MSE:  5.033246290799686\n"
     ]
    }
   ],
   "source": [
    "import pandas as pd\n",
    "import numpy as np\n",
    "from statsmodels.tsa.arima.model import ARIMA\n",
    "from sklearn.model_selection import TimeSeriesSplit\n",
    "from sklearn.metrics import mean_squared_error\n",
    "\n",
    "\n",
    "from statsmodels.tsa.arima.model import ARIMA\n",
    "from sklearn.model_selection import TimeSeriesSplit\n",
    "from sklearn.metrics import mean_squared_error\n",
    "\n",
    "# Load data\n",
    "data = ecpm_total\n",
    "\n",
    "# Convert datetime to index\n",
    "data = data.set_index('Date')\n",
    "\n",
    "# Define input variables and target variable\n",
    "input_vars = ['country', 'ad_type']\n",
    "target_var = 'ecpm'\n",
    "\n",
    "# Create one-hot encoded features for country and advertisement type\n",
    "data = pd.get_dummies(data, columns=input_vars)\n",
    "\n",
    "# Define the number of folds for cross-validation\n",
    "n_splits = 5\n",
    "\n",
    "# Split data into training and testing sets using TimeSeriesSplit\n",
    "tscv = TimeSeriesSplit(n_splits=n_splits)\n",
    "splits = tscv.split(data)\n",
    "\n",
    "# Perform cross-validation\n",
    "mse_list = []\n",
    "preds_list = []\n",
    "for train_index, test_index in splits:\n",
    "    \n",
    "    # Split data into training and testing sets\n",
    "    train_data = data.iloc[train_index]\n",
    "    test_data = data.iloc[test_index]\n",
    "    \n",
    "    # Define the ARIMA model\n",
    "    model = ARIMA(train_data[target_var], order=(1,0,1))\n",
    "    \n",
    "    # Fit the ARIMA model to the training data\n",
    "    model_fit = model.fit()\n",
    "    \n",
    "    # Make predictions for the testing data\n",
    "    preds = model_fit.forecast(steps=1)\n",
    "    \n",
    "    \n",
    "    # Extract the predicted eCPM value for the next day\n",
    "    #pred_ecpm = preds[0]\n",
    "    pred_ecpm = preds\n",
    "    preds_list.append(preds)\n",
    "    # Extract the actual eCPM value for the next day\n",
    "    actual_ecpm = test_data[target_var][0]\n",
    "    \n",
    "    # Calculate the mean squared error\n",
    "    mse = mean_squared_error([actual_ecpm], [pred_ecpm])\n",
    "    \n",
    "    mse_list.append(mse)\n",
    "    \n",
    "mean_preds = np.mean(preds_list)\n",
    "mean_mse = np.mean(mse_list)\n",
    "    # Print the mean squared error\n",
    "print('Prediction: ',mean_preds)\n",
    "print('MSE: ', mse)\n"
   ]
  },
  {
   "cell_type": "markdown",
   "id": "07d07912",
   "metadata": {},
   "source": [
    "The predicted next day ecpm is 3.24 cent, which falls under normal range, however our mean squared error is 5 cents, this is quite far off for our predicted value, which means <b>the performance of the ARIMAX model is not ideal.</b>"
   ]
  },
  {
   "cell_type": "markdown",
   "id": "9bd9c602",
   "metadata": {},
   "source": [
    "Looking at our assumptions, we assumed the time series data to be stationary, which means the means and variance of the series do not change over time. This is a very strict requirement for most time series, therefore we fine tune the parameters and <b>add a one degree of differencing (d) for the time series, assuming variance change over time.</b>"
   ]
  },
  {
   "cell_type": "code",
   "execution_count": 25,
   "id": "13e2649b",
   "metadata": {},
   "outputs": [
    {
     "name": "stderr",
     "output_type": "stream",
     "text": [
      "C:\\Users\\sydne\\Anaconda3\\lib\\site-packages\\statsmodels\\tsa\\base\\tsa_model.py:581: ValueWarning: A date index has been provided, but it has no associated frequency information and so will be ignored when e.g. forecasting.\n",
      "  warnings.warn('A date index has been provided, but it has no'\n",
      "C:\\Users\\sydne\\Anaconda3\\lib\\site-packages\\statsmodels\\tsa\\base\\tsa_model.py:581: ValueWarning: A date index has been provided, but it has no associated frequency information and so will be ignored when e.g. forecasting.\n",
      "  warnings.warn('A date index has been provided, but it has no'\n",
      "C:\\Users\\sydne\\Anaconda3\\lib\\site-packages\\statsmodels\\tsa\\base\\tsa_model.py:581: ValueWarning: A date index has been provided, but it has no associated frequency information and so will be ignored when e.g. forecasting.\n",
      "  warnings.warn('A date index has been provided, but it has no'\n",
      "C:\\Users\\sydne\\Anaconda3\\lib\\site-packages\\statsmodels\\tsa\\base\\tsa_model.py:376: ValueWarning: No supported index is available. Prediction results will be given with an integer index beginning at `start`.\n",
      "  warnings.warn('No supported index is available.'\n",
      "C:\\Users\\sydne\\Anaconda3\\lib\\site-packages\\statsmodels\\tsa\\base\\tsa_model.py:581: ValueWarning: A date index has been provided, but it has no associated frequency information and so will be ignored when e.g. forecasting.\n",
      "  warnings.warn('A date index has been provided, but it has no'\n",
      "C:\\Users\\sydne\\Anaconda3\\lib\\site-packages\\statsmodels\\tsa\\base\\tsa_model.py:581: ValueWarning: A date index has been provided, but it has no associated frequency information and so will be ignored when e.g. forecasting.\n",
      "  warnings.warn('A date index has been provided, but it has no'\n",
      "C:\\Users\\sydne\\Anaconda3\\lib\\site-packages\\statsmodels\\tsa\\base\\tsa_model.py:581: ValueWarning: A date index has been provided, but it has no associated frequency information and so will be ignored when e.g. forecasting.\n",
      "  warnings.warn('A date index has been provided, but it has no'\n",
      "C:\\Users\\sydne\\Anaconda3\\lib\\site-packages\\statsmodels\\tsa\\base\\tsa_model.py:376: ValueWarning: No supported index is available. Prediction results will be given with an integer index beginning at `start`.\n",
      "  warnings.warn('No supported index is available.'\n",
      "C:\\Users\\sydne\\Anaconda3\\lib\\site-packages\\statsmodels\\tsa\\base\\tsa_model.py:581: ValueWarning: A date index has been provided, but it has no associated frequency information and so will be ignored when e.g. forecasting.\n",
      "  warnings.warn('A date index has been provided, but it has no'\n",
      "C:\\Users\\sydne\\Anaconda3\\lib\\site-packages\\statsmodels\\tsa\\base\\tsa_model.py:581: ValueWarning: A date index has been provided, but it has no associated frequency information and so will be ignored when e.g. forecasting.\n",
      "  warnings.warn('A date index has been provided, but it has no'\n",
      "C:\\Users\\sydne\\Anaconda3\\lib\\site-packages\\statsmodels\\tsa\\base\\tsa_model.py:581: ValueWarning: A date index has been provided, but it has no associated frequency information and so will be ignored when e.g. forecasting.\n",
      "  warnings.warn('A date index has been provided, but it has no'\n",
      "C:\\Users\\sydne\\Anaconda3\\lib\\site-packages\\statsmodels\\tsa\\base\\tsa_model.py:376: ValueWarning: No supported index is available. Prediction results will be given with an integer index beginning at `start`.\n",
      "  warnings.warn('No supported index is available.'\n",
      "C:\\Users\\sydne\\Anaconda3\\lib\\site-packages\\statsmodels\\tsa\\base\\tsa_model.py:581: ValueWarning: A date index has been provided, but it has no associated frequency information and so will be ignored when e.g. forecasting.\n",
      "  warnings.warn('A date index has been provided, but it has no'\n",
      "C:\\Users\\sydne\\Anaconda3\\lib\\site-packages\\statsmodels\\tsa\\base\\tsa_model.py:581: ValueWarning: A date index has been provided, but it has no associated frequency information and so will be ignored when e.g. forecasting.\n",
      "  warnings.warn('A date index has been provided, but it has no'\n",
      "C:\\Users\\sydne\\Anaconda3\\lib\\site-packages\\statsmodels\\tsa\\base\\tsa_model.py:581: ValueWarning: A date index has been provided, but it has no associated frequency information and so will be ignored when e.g. forecasting.\n",
      "  warnings.warn('A date index has been provided, but it has no'\n"
     ]
    },
    {
     "name": "stdout",
     "output_type": "stream",
     "text": [
      "Prediction:  3.333963949389907\n",
      "MSE:  3.95921154923047\n"
     ]
    },
    {
     "name": "stderr",
     "output_type": "stream",
     "text": [
      "C:\\Users\\sydne\\Anaconda3\\lib\\site-packages\\statsmodels\\tsa\\base\\tsa_model.py:376: ValueWarning: No supported index is available. Prediction results will be given with an integer index beginning at `start`.\n",
      "  warnings.warn('No supported index is available.'\n",
      "C:\\Users\\sydne\\Anaconda3\\lib\\site-packages\\statsmodels\\tsa\\base\\tsa_model.py:581: ValueWarning: A date index has been provided, but it has no associated frequency information and so will be ignored when e.g. forecasting.\n",
      "  warnings.warn('A date index has been provided, but it has no'\n",
      "C:\\Users\\sydne\\Anaconda3\\lib\\site-packages\\statsmodels\\tsa\\base\\tsa_model.py:581: ValueWarning: A date index has been provided, but it has no associated frequency information and so will be ignored when e.g. forecasting.\n",
      "  warnings.warn('A date index has been provided, but it has no'\n",
      "C:\\Users\\sydne\\Anaconda3\\lib\\site-packages\\statsmodels\\tsa\\base\\tsa_model.py:581: ValueWarning: A date index has been provided, but it has no associated frequency information and so will be ignored when e.g. forecasting.\n",
      "  warnings.warn('A date index has been provided, but it has no'\n",
      "C:\\Users\\sydne\\Anaconda3\\lib\\site-packages\\statsmodels\\tsa\\base\\tsa_model.py:376: ValueWarning: No supported index is available. Prediction results will be given with an integer index beginning at `start`.\n",
      "  warnings.warn('No supported index is available.'\n"
     ]
    }
   ],
   "source": [
    "\n",
    "from statsmodels.tsa.arima.model import ARIMA\n",
    "from sklearn.model_selection import TimeSeriesSplit\n",
    "from sklearn.metrics import mean_squared_error\n",
    "\n",
    "# Load data\n",
    "data = ecpm_total\n",
    "\n",
    "# Convert datetime to index\n",
    "data = data.set_index('Date')\n",
    "\n",
    "# Define input variables and target variable\n",
    "input_vars = ['country', 'ad_type']\n",
    "target_var = 'ecpm'\n",
    "\n",
    "# Create one-hot encoded features for country and advertisement type\n",
    "data = pd.get_dummies(data, columns=input_vars)\n",
    "\n",
    "# Define the number of folds for cross-validation\n",
    "n_splits = 5\n",
    "\n",
    "# Split data into training and testing sets using TimeSeriesSplit\n",
    "tscv = TimeSeriesSplit(n_splits=n_splits)\n",
    "splits = tscv.split(data)\n",
    "\n",
    "# Perform cross-validation\n",
    "mse_list = []\n",
    "preds_list = []\n",
    "for train_index, test_index in splits:\n",
    "    \n",
    "    # Split data into training and testing sets\n",
    "    train_data = data.iloc[train_index]\n",
    "    test_data = data.iloc[test_index]\n",
    "    \n",
    "    # Define the ARIMA model\n",
    "    model = ARIMA(train_data[target_var], order=(1,1,1))\n",
    "    \n",
    "    # Fit the ARIMA model to the training data\n",
    "    model_fit = model.fit()\n",
    "    \n",
    "    # Make predictions for the testing data\n",
    "    preds = model_fit.forecast(steps=1)\n",
    "    \n",
    "    \n",
    "    # Extract the predicted eCPM value for the next day\n",
    "    #pred_ecpm = preds[0]\n",
    "    pred_ecpm = preds\n",
    "    preds_list.append(preds)\n",
    "    # Extract the actual eCPM value for the next day\n",
    "    actual_ecpm = test_data[target_var][0]\n",
    "    \n",
    "    # Calculate the mean squared error\n",
    "    mse = mean_squared_error([actual_ecpm], [pred_ecpm])\n",
    "    \n",
    "    mse_list.append(mse)\n",
    "    \n",
    "mean_preds = np.mean(preds_list)\n",
    "mean_mse = np.mean(mse_list)\n",
    "    # Print the mean squared error\n",
    "print('Prediction: ',mean_preds)\n",
    "print('MSE: ', mse)\n"
   ]
  },
  {
   "cell_type": "markdown",
   "id": "c67f67c7",
   "metadata": {},
   "source": [
    "Here we have predicted a higher ecpm which has <b>significantly lower mean standard error</b>. However, the size of the mean standard error is still as big as the predicted value itself, which means <b>the model is still not ideal.</b> \n",
    "\n",
    "There are a few suggestions we come up with for further improvements:\n",
    "\n",
    "1. <b>Increase the granularity of the data</b>: Collect more detailed data on ad impressions, time spent viewing the impressions, clicks, conversions and other variables during the user journey that can affect eCPM. The more relevant data we can collect, the better model we can build.\n",
    "\n",
    "2. <b>Use a wider range of features</b>: We can also consider other variables that can impact eCPM on user level in addition to ad type, country and time of day, user demographics such as device type, user segment and profile, viewing history, behavior pattern, consumption level etc.,.These can also give inforation on the change of ecpm.\n",
    "\n",
    "3. <b>More advanced machine learning models</b> can be used to predict ecpm such as random forests, gradient boosting, especially we can use ensemble methods to combine different models, and utilize methods such as bagging and boosting.\n",
    "\n",
    "4. <b>Continuously update the models<b> and the model parameters as our users are constantly evolving together with their behavior and preferences.\n",
    "\n",
    "\n",
    "\n"
   ]
  },
  {
   "cell_type": "code",
   "execution_count": null,
   "id": "ee1fc0b0",
   "metadata": {},
   "outputs": [],
   "source": []
  },
  {
   "cell_type": "code",
   "execution_count": null,
   "id": "5a4e6b87",
   "metadata": {},
   "outputs": [],
   "source": []
  },
  {
   "cell_type": "code",
   "execution_count": null,
   "id": "431cfb2e",
   "metadata": {},
   "outputs": [],
   "source": []
  },
  {
   "cell_type": "code",
   "execution_count": null,
   "id": "51ce9e8c",
   "metadata": {},
   "outputs": [],
   "source": []
  }
 ],
 "metadata": {
  "kernelspec": {
   "display_name": "Python 3",
   "language": "python",
   "name": "python3"
  },
  "language_info": {
   "codemirror_mode": {
    "name": "ipython",
    "version": 3
   },
   "file_extension": ".py",
   "mimetype": "text/x-python",
   "name": "python",
   "nbconvert_exporter": "python",
   "pygments_lexer": "ipython3",
   "version": "3.8.8"
  }
 },
 "nbformat": 4,
 "nbformat_minor": 5
}
